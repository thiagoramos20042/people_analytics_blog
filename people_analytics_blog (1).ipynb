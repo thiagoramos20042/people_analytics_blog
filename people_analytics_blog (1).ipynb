{
 "cells": [
  {
   "cell_type": "code",
   "execution_count": null,
   "id": "94760f96",
   "metadata": {},
   "outputs": [],
   "source": [
    "import requests\n",
    "from bs4 import BeautifulSoup\n",
    "from urllib.parse import urljoin\n",
    "import smtplib\n",
    "from email.mime.text import MIMEText\n",
    "\n",
    "# Faz a requisição para a página\n",
    "base_url = \"https://www.myhrfuture.com\"\n",
    "response = requests.get(base_url+\"/blog\")\n",
    "soup = BeautifulSoup(response.content, \"html.parser\")\n",
    "\n",
    "# Encontra todos os elementos \"a\" com a classe \"BlogList-item-title\"\n",
    "links = soup.find_all(\"a\", class_=\"BlogList-item-title\")\n",
    "\n",
    "# Percorre cada link e imprime o título e o link\n",
    "output = []\n",
    "for link in links:\n",
    "    title = link.text\n",
    "    url = link[\"href\"]\n",
    "    url = urljoin(base_url, url)\n",
    "    output.append(f\"{title}\\n{url}\\n\")\n",
    "\n",
    "output = \"\\n\".join(output)\n",
    "message = MIMEText(output)\n",
    "# Dados do remetente\n",
    "sender_email = \"seuemail@seuemail.com.br\"\n",
    "sender_password = \"sua_senha\"\n",
    "\n",
    "# Dados do destinatário\n",
    "recipient_email = \"seuemail@seuemail.com.br\"\n",
    "\n",
    "# Conecta ao servidor de email\n",
    "server = smtplib.SMTP(\"smtp.office365.com\", 587)\n",
    "server.starttls()\n",
    "server.login(sender_email, sender_password)\n",
    "\n",
    "# Prepara a mensagem\n",
    "message = MIMEText(output) # output é a variável que contém o resultado do código acima\n",
    "message[\"From\"] = \"\"seuemail@seuemail.com.br\"\"\n",
    "message[\"To\"] = \"seuemail@seuemail.com.br\"\n",
    "message[\"Subject\"] = \"News People Analytics\"\n",
    "\n",
    "# Envia a mensagem\n",
    "server.send_message(message)\n",
    "\n",
    "# Fecha a conexão\n",
    "server.quit()"
   ]
  }
 ],
 "metadata": {
  "kernelspec": {
   "display_name": "Python 3 (ipykernel)",
   "language": "python",
   "name": "python3"
  },
  "language_info": {
   "codemirror_mode": {
    "name": "ipython",
    "version": 3
   },
   "file_extension": ".py",
   "mimetype": "text/x-python",
   "name": "python",
   "nbconvert_exporter": "python",
   "pygments_lexer": "ipython3",
   "version": "3.9.13"
  }
 },
 "nbformat": 4,
 "nbformat_minor": 5
}
